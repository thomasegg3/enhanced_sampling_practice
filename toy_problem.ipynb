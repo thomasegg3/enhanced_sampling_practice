{
 "cells": [
  {
   "cell_type": "markdown",
   "metadata": {},
   "source": [
    "# A Toy Problem - Enhanced Sampling"
   ]
  },
  {
   "cell_type": "markdown",
   "metadata": {},
   "source": [
    "## Framing the Problem"
   ]
  },
  {
   "cell_type": "markdown",
   "metadata": {},
   "source": [
    "Consider a system with two degrees of freedom with Hamiltonian:\n",
    "$$\n",
    "    H = \\frac{px^2}{2m_x}\\ + \\frac{py^2}{2m_y}\\ + \\frac{D_0}{a^4}(x^2-a^2)^2 + \\frac{1}{2}m_y\\omega^2y^2 + \\lambda xy\n",
    "$$\n",
    "\n",
    "We can see the potential energy is:\n",
    "$$\n",
    "   U(x, y) = \\frac{D_0}{a^4}(x^2-a^2)^2 + \\frac{1}{2}m_y\\omega^2y^2 + \\lambda xy \n",
    "$$\n",
    "\n",
    "We want to calculate the marginal probability distribution function:\n",
    "$$\n",
    "    P(x) = \\int dy e^{-\\beta U(x, y)}\n",
    "$$\n",
    "\n",
    "So that we can ascertain the potential energy surface *A* of our system:\n",
    "$$\n",
    "    A(x) = -\\frac{1}{\\beta}lnP(x)"
   ]
  },
  {
   "cell_type": "markdown",
   "metadata": {},
   "source": [
    "## Analytical Solution"
   ]
  },
  {
   "cell_type": "markdown",
   "metadata": {},
   "source": [
    "To begin, I will calculate the marginal probability distribution analytically. This will serve as a benchmark value that I can compare to the results that I will simulate."
   ]
  },
  {
   "cell_type": "code",
   "execution_count": 1,
   "metadata": {},
   "outputs": [],
   "source": [
    "# Libraries\n",
    "import numpy as np\n",
    "import matplotlib.pyplot as plt\n",
    "import random\n",
    "from statsmodels.distributions.empirical_distribution import ECDF\n",
    "import gc\n",
    "from scipy.optimize import curve_fit"
   ]
  },
  {
   "cell_type": "code",
   "execution_count": 8,
   "metadata": {},
   "outputs": [],
   "source": [
    "# Constants\n",
    "d = 5\n",
    "a = 1\n",
    "omega = 1\n",
    "lam = 2.878\n",
    "\n",
    "# Function for the potential energy of the system\n",
    "def potential_energy(x, y, m_x, m_y):\n",
    "    '''\n",
    "    Function to return the potential energy of system\n",
    "\n",
    "    @param x : x coordinate\n",
    "    @param y : y coordinate\n",
    "    @param m_x : mass in x\n",
    "    @param m_y : mass in y\n",
    "    @return en : potential energy\n",
    "    '''\n",
    "\n",
    "    # Calculate energy\n",
    "    en = (d * ((x ** 2) - (a ** 2)) ** 2) + (0.5 * m_y * (omega ** 2) * (y ** 2)) + (lam * x * y)\n",
    "\n",
    "    # Return energy\n",
    "    return en\n",
    "\n",
    "# Function for total energy\n",
    "def total_energy(x, y, p_x, p_y, m_x, m_y):\n",
    "    '''\n",
    "    Function to return total energy of the system\n",
    "\n",
    "    @param x : x-coordinate\n",
    "    @param y : y-coordinate\n",
    "    @param p_x : momentum in x\n",
    "    @param p_y : momentum in y\n",
    "    @param m_x : mass in x\n",
    "    @param m_y : mass in y\n",
    "    @return en : total energy\n",
    "    '''\n",
    "\n",
    "    # Calculate energy\n",
    "    en = ((p_x ** 2) / (2 * m_x)) + ((p_y ** 2) / (2 * m_y)) + potential_energy(x, y, m_x, m_y)\n",
    "\n",
    "    # Return energy\n",
    "    return en"
   ]
  },
  {
   "cell_type": "markdown",
   "metadata": {},
   "source": [
    "With a function to calculate potential energy, I will integrate analytically with respect to y to obtain the marginal probability distribution *P(x)* and, consequently, the free energy surface *A(x)*. This will later be compared to the result obtained by am dynamics simulation. Note that I performed integration with Mathematica due to it's superior integration capabilities compared to python libraries like SymPy."
   ]
  },
  {
   "cell_type": "code",
   "execution_count": 32,
   "metadata": {},
   "outputs": [
    {
     "data": {
      "image/png": "[encoded data removed]",
      "text/plain": [
       "<Figure size 432x288 with 1 Axes>"
      ]
     },
     "metadata": {
      "needs_background": "light"
     },
     "output_type": "display_data"
    }
   ],
   "source": [
    "# Plotting Free Energy Surface\n",
    "x_list = np.linspace(-1.9, 1.9, 1000)\n",
    "fes = - np.log(1.25331 * np.exp(-((d * (a ** 2 - x_list ** 2) ** 2) / (a ** 4)) + ((0.5 * (x_list ** 2) * (lam ** 2)) / (1 * (omega ** 2)))) / (np.sqrt(1) * omega)) / 1\n",
    "pe = potential_energy(x_list, 0, 1, 1)\n",
    "plt.plot(x_list, fes)\n",
    "#plt.plot(x, pe, linestyle='--')\n",
    "plt.show()"
   ]
  },
  {
   "cell_type": "markdown",
   "metadata": {},
   "source": [
    "## Numerical Solution"
   ]
  },
  {
   "cell_type": "markdown",
   "metadata": {},
   "source": [
    "A numerical solution to finding the free energy surface and marginal probability distribution of the system outlined above is to simulate it with a molecular dynamics approach. By propagating a particle in time over a range of x and y values, the probability distribution along those points can be ascertained. In this problem, I will generate a particle that can move in two directions: x and y, Based on the potential acting on this particle, it's position and momentum will change in time. Specifically, I will use Langevin dynamics to propagate this particle. In Langevin dynamics, a \"stochastic-dynamical\" system involving position and momentum can be modeled equations:\n",
    "$$\n",
    "    dx = M^{-1} p dt\n",
    "$$\n",
    "$$\n",
    "    dp = [- \\nabla U(x) - \\gamma] dt + \\sigma M^{1/2} dW\n",
    "$$\n",
    "Where dx and dp are changes in position and momentum respectively, M is a mass or diagonal matrix of masses, gamma is a friction coefficient, and W is a Wiener process or a vector of Wiener processes. Leimkuhler and Matthews derive the equations of motion (EOMs) shown above for Langevin dynamical systems. These equations maintain temperature by modulating the momentum of the system."
   ]
  },
  {
   "cell_type": "markdown",
   "metadata": {},
   "source": [
    "### My algorithm"
   ]
  },
  {
   "cell_type": "markdown",
   "metadata": {},
   "source": [
    "1. Initialize coordinate, choose v<sub>x</sub> and v<sub>y</sub>.\n",
    "2. Compute forces $$F = -\\nabla U(x, y)$$\n",
    "3. Update position and momentum (BAOAB integrator, follows from Langevin Dynamics)\n",
    "4. Update time $$ t = t + \\Delta t$$\n",
    "5. Repeat steps 2 through 4 for n timesteps."
   ]
  },
  {
   "cell_type": "markdown",
   "metadata": {},
   "source": [
    "## Choice of Integrator"
   ]
  },
  {
   "cell_type": "markdown",
   "metadata": {},
   "source": [
    "I will be implementing the BAOAB integrator, these equations below follow from Langevin dynamics. This integrator has the following equations of motion:\n",
    "\n",
    "$$\n",
    "    p_{n+1/2} = p_n - \\delta t \\nabla U(x_n)/2:\n",
    "$$\n",
    "$$\n",
    "    x_{n+1/2} = x_n + \\delta t M^{-1} p_{n+1/2}/2;\n",
    "$$\n",
    "$$\n",
    "    \\hat{p}_{n+1/2} = c_1 p_{n+1/2} + c_3 M^{1/2} R_{n+1};\n",
    "$$\n",
    "$$\n",
    "    x_{n+1} = x_{n+1/2} + \\delta t M^{-1} \\hat{p}_{n+1/2}/2;\n",
    "$$\n",
    "$$\n",
    "    p_{n+1} = \\hat{p}_{n+1/2} - \\delta t \\nabla U(x_{n+1})/2;\n",
    "$$\n",
    "\n",
    "Where:\n",
    "$$\n",
    "    c_1 = e^{-\\gamma \\delta t}, \\quad c_2 = \\gamma^{-1}(1-c_1), \\quad c_3 = \\sqrt{k_BT(1-c_1^2)}\n",
    "$$\n",
    "\n",
    "where I will set &gamma; to be 1"
   ]
  },
  {
   "cell_type": "markdown",
   "metadata": {},
   "source": [
    "A numerical solution requires simulating a particle in the x and y space we have constrained our system to. In order to do this we must initialize a system with x and y coordinates at time of 0 seconds. We also need to specify temperature and masses for x and y directions."
   ]
  },
  {
   "cell_type": "code",
   "execution_count": 9,
   "metadata": {},
   "outputs": [],
   "source": [
    "def grad(point, m_y):\n",
    "    '''\n",
    "    Function to calculate the gradient of the potential V(x, y) with respect to x\n",
    "\n",
    "    @param point : point to evaluate gradient\n",
    "    @param m_y : mass in y\n",
    "    @return grad : the gradient\n",
    "    '''\n",
    "\n",
    "    # Set x and y\n",
    "    x = point[0]\n",
    "    y = point[1]\n",
    "\n",
    "    # Calculate gradient\n",
    "    grad_x = (((4 * d) / (a ** 4)) * x * ((x ** 2) - (a ** 2))) + (y * lam)\n",
    "    grad_y = ((m_y * (omega ** 2) * y) + (lam * x))\n",
    "    gradient = (grad_x, grad_y)\n",
    "\n",
    "    # Return gradient\n",
    "    return gradient\n",
    "\n",
    "def run_simulation(n_steps, m_x, m_y, kt_x, kt_y):\n",
    "    '''\n",
    "    Function to run simulation for x timesteps\n",
    "\n",
    "    @param n_steps : number of timesteps to take\n",
    "    @param m_x : mass for x-coordinate\n",
    "    @param t_x : temperature for x-coordinate\n",
    "    @param m_y : mass for y-coordinate\n",
    "    @param t_y : temperature for y_coordinate\n",
    "\n",
    "    @return x_pos : x-coordinate data\n",
    "    @return free_en : free energy at each x position\n",
    "    '''\n",
    "\n",
    "    # Lists for data collection \n",
    "    steps = []  # Number of steps\n",
    "    x_pos = []  # Values for x at each step\n",
    "    p_square = []   # Momentum squared at each step\n",
    "    velo = []   # Velocity list\n",
    "\n",
    "    '''\n",
    "    Step 1: Initialize system\n",
    "\n",
    "    Set coordinate and choose a random velocity to initialize system, momenta will\n",
    "    evolve through equations of motion after this step so velocity does not need to be\n",
    "    tracked throughout the simulation.\n",
    "    '''\n",
    "    coords = [-1, 1]\n",
    "    velocity = [random.gauss(0, 1), random.gauss(0, 1)]\n",
    "    momenta = [m_x * velocity[0], m_y * velocity[1]]\n",
    "    time = 0\n",
    "    time_step = 0.30 * (10 ** -3)\n",
    "\n",
    "    # Initialize constants\n",
    "    c1 = np.exp(-1 * time_step)\n",
    "    c3_x = np.sqrt(kt_x * (1 - (c1 ** 2)))\n",
    "    c3_y = np.sqrt(kt_y * (1 - (c1 ** 2)))\n",
    "\n",
    "    # Simulation loop\n",
    "    for i in range(n_steps):\n",
    "\n",
    "        '''\n",
    "        Step 2: Compute forces\n",
    "\n",
    "        Forces are negative gradient of the potential.\n",
    "        '''\n",
    "        gradient = grad(coords, m_y)\n",
    "\n",
    "        '''\n",
    "        Step 3: Move coordinate\n",
    "        \n",
    "        Integrate the Langevin dynamics equations of motion to conserve momenta and, thus, temperature.\n",
    "        '''\n",
    "        # B\n",
    "        p_int_x = momenta[0] - (time_step * gradient[0]) / 2\n",
    "        p_int_y = momenta[1] - (time_step * gradient[1]) / 2\n",
    " \n",
    "        # A\n",
    "        x_int = coords[0] + (time_step * (m_x ** -1) * p_int_x) / 2\n",
    "        y_int = coords[1] + (time_step * (m_y ** -1) * p_int_y) / 2\n",
    "\n",
    "        # O\n",
    "        p_int_x = (c1 * p_int_x) + (c3_x * (m_x ** (1/2)) * random.gauss(0, 1))\n",
    "        p_int_y = (c1 * p_int_y) + (c3_y * (m_y ** (1/2)) * random.gauss(0, 1))\n",
    "\n",
    "        # A\n",
    "        x_new = x_int + (time_step * (m_x ** -1) * p_int_x) / 2\n",
    "        y_new = y_int + (time_step * (m_y ** -1) * p_int_y) / 2\n",
    "\n",
    "        # Compute NEW gradient for final equations\n",
    "        new_gradient = grad([x_new, y_new], m_y)\n",
    "\n",
    "        # B\n",
    "        p_new_x = p_int_x - (time_step * new_gradient[0]) / 2\n",
    "        p_new_y = p_int_y - (time_step * new_gradient[1]) / 2\n",
    "\n",
    "        # Set new coordinates and momenta\n",
    "        coords[0], coords[1] = x_new, y_new\n",
    "        momenta[0], momenta[1] = p_new_x, p_new_y\n",
    "\n",
    "        '''\n",
    "        Step 4: Accelerate time\n",
    "        \n",
    "        Add timestep to current time.\n",
    "        '''\n",
    "        time = time + time_step\n",
    "\n",
    "        # Record values and repeat\n",
    "        steps.append(i+1)\n",
    "        x_pos.append(coords[0])\n",
    "        p_square.append(momenta[0] ** 2)\n",
    "        velo.append(momenta[0] / m_x)\n",
    "        \n",
    "    # Return data\n",
    "    return x_pos, p_square, velo, steps"
   ]
  },
  {
   "cell_type": "markdown",
   "metadata": {},
   "source": [
    "## Simulation Testing"
   ]
  },
  {
   "cell_type": "markdown",
   "metadata": {},
   "source": [
    "Below is code for testing the simulation written above and analyzing resulting data. Relevant figures like x position over time can be generated and used to visualize the movement of the particle and the free energy of the system."
   ]
  },
  {
   "cell_type": "code",
   "execution_count": 10,
   "metadata": {},
   "outputs": [],
   "source": [
    "# Run simulation as test\n",
    "n_steps = 150000000\n",
    "x, p_square, velo, steps = run_simulation(n_steps, 300, 1, 15, 1)"
   ]
  },
  {
   "cell_type": "code",
   "execution_count": 14,
   "metadata": {},
   "outputs": [
    {
     "data": {
      "image/png": "[encoded data removed]",
      "text/plain": [
       "<Figure size 432x288 with 1 Axes>"
      ]
     },
     "metadata": {
      "needs_background": "light"
     },
     "output_type": "display_data"
    }
   ],
   "source": [
    "# Plot momentum squared over time\n",
    "plt.xlabel('Steps')\n",
    "plt.ylabel('$<p^{2}>$')\n",
    "plt.plot(steps, p_square)\n",
    "plt.show()"
   ]
  },
  {
   "cell_type": "code",
   "execution_count": 12,
   "metadata": {},
   "outputs": [
    {
     "data": {
      "text/plain": [
       "[<matplotlib.lines.Line2D at 0x12400c910>]"
      ]
     },
     "execution_count": 12,
     "metadata": {},
     "output_type": "execute_result"
    },
    {
     "data": {
      "image/png": "[encoded data removed]",
      "text/plain": [
       "<Figure size 432x288 with 1 Axes>"
      ]
     },
     "metadata": {
      "needs_background": "light"
     },
     "output_type": "display_data"
    }
   ],
   "source": [
    "# Plot x-coordinate over time\n",
    "plt.xlabel('Steps')\n",
    "plt.ylabel('x-coordinate')\n",
    "plt.plot(steps, x)"
   ]
  },
  {
   "cell_type": "markdown",
   "metadata": {},
   "source": [
    "### Testing different Mass/Temperature"
   ]
  },
  {
   "cell_type": "code",
   "execution_count": 11,
   "metadata": {},
   "outputs": [
    {
     "data": {
      "text/plain": [
       "0"
      ]
     },
     "execution_count": 11,
     "metadata": {},
     "output_type": "execute_result"
    }
   ],
   "source": [
    "gc.collect()"
   ]
  },
  {
   "cell_type": "code",
   "execution_count": 5,
   "metadata": {},
   "outputs": [
    {
     "ename": "NameError",
     "evalue": "name 'run_simulation' is not defined",
     "output_type": "error",
     "traceback": [
      "\u001b[0;31m---------------------------------------------------------------------------\u001b[0m",
      "\u001b[0;31mNameError\u001b[0m                                 Traceback (most recent call last)",
      "\u001b[1;32m/Users/tomegg/Documents/GitHub/enhanced_sampling_practice/toy_problem.ipynb Cell 25\u001b[0m in \u001b[0;36m<module>\u001b[0;34m\u001b[0m\n\u001b[1;32m      <a href='vscode-notebook-cell:/Users/tomegg/Documents/GitHub/enhanced_sampling_practice/toy_problem.ipynb#X33sZmlsZQ%3D%3D?line=0'>1</a>\u001b[0m \u001b[39m# Save simulation results\u001b[39;00m\n\u001b[0;32m----> <a href='vscode-notebook-cell:/Users/tomegg/Documents/GitHub/enhanced_sampling_practice/toy_problem.ipynb#X33sZmlsZQ%3D%3D?line=1'>2</a>\u001b[0m x1, p_square1, velo1, steps1 \u001b[39m=\u001b[39m run_simulation(n_steps, \u001b[39m200\u001b[39m, \u001b[39m1\u001b[39m, \u001b[39m15\u001b[39m, \u001b[39m1\u001b[39m)\n",
      "\u001b[0;31mNameError\u001b[0m: name 'run_simulation' is not defined"
     ]
    }
   ],
   "source": [
    "# Save simulation results\n",
    "x1, p_square1, velo1, steps1 = run_simulation(n_steps, 300, 1, 20, 1)"
   ]
  },
  {
   "cell_type": "code",
   "execution_count": 8,
   "metadata": {},
   "outputs": [
    {
     "data": {
      "image/png": "[encoded data removed]",
      "text/plain": [
       "<Figure size 432x288 with 1 Axes>"
      ]
     },
     "metadata": {
      "needs_background": "light"
     },
     "output_type": "display_data"
    }
   ],
   "source": [
    "# Plot trajectories\n",
    "plt.xlabel('Steps')\n",
    "plt.ylabel('x-coordinate')\n",
    "plt.plot(steps1, x1)\n",
    "plt.show()"
   ]
  },
  {
   "cell_type": "code",
   "execution_count": null,
   "metadata": {},
   "outputs": [],
   "source": [
    "# Save simulation results\n",
    "x2, p_square2, velo2, steps2 = run_simulation(n_steps, 20, 1, 15, 1)\n",
    "\n",
    "# Plot trajectories\n",
    "plt.xlabel('Steps')\n",
    "plt.ylabel('x-coordinate')\n",
    "plt.plot(steps2, x2)\n",
    "plt.plot(steps2, velo2)\n",
    "plt.show()"
   ]
  },
  {
   "cell_type": "code",
   "execution_count": 8,
   "metadata": {},
   "outputs": [],
   "source": [
    "# Save simulation results\n",
    "x3, p_square3, velo3, steps3 = run_simulation(n_steps, 1, 1, 1, 1)"
   ]
  },
  {
   "cell_type": "code",
   "execution_count": 9,
   "metadata": {},
   "outputs": [
    {
     "data": {
      "image/png": "[encoded data removed]",
      "text/plain": [
       "<Figure size 432x288 with 1 Axes>"
      ]
     },
     "metadata": {
      "needs_background": "light"
     },
     "output_type": "display_data"
    }
   ],
   "source": [
    "# Plot trajectories\n",
    "plt.xlabel('Steps')\n",
    "plt.ylabel('x-coordinate')\n",
    "plt.plot(steps3, x3)\n",
    "plt.show()"
   ]
  },
  {
   "cell_type": "markdown",
   "metadata": {},
   "source": [
    "## Generating Free Energy Surface"
   ]
  },
  {
   "cell_type": "markdown",
   "metadata": {},
   "source": [
    "When we adiabatically separate the x and y degrees of freedome to generate the marginal distribution of our particle, we are sampling an adiabatic marginal. This marginal is related to the analytical marginal sampled above by the relation:\n",
    "$$\n",
    "    P_{adb}(x) = [P(x)]^{T_y/T_x}\n",
    "$$\n",
    "I will attempt to use the adiabatic marginal I generated above to replicate the true marginal. I will then try and ascertain the free energy surface of the system. First, I will use the x values I have sampled to create a histogram of how the values are spread across the x degree of freedom."
   ]
  },
  {
   "cell_type": "code",
   "execution_count": 11,
   "metadata": {},
   "outputs": [
    {
     "data": {
      "image/png": "[encoded data removed]",
      "text/plain": [
       "<Figure size 432x288 with 1 Axes>"
      ]
     },
     "metadata": {
      "needs_background": "light"
     },
     "output_type": "display_data"
    }
   ],
   "source": [
    "# Calculate histogram for subsampled data\n",
    "hist, bins = np.histogram(x, bins=75)\n",
    "bin_width = bins[1] - bins[0]\n",
    "hist = hist / len(x) * bin_width\n",
    "\n",
    "# Plot histogram\n",
    "plt.hist(x, bins=bins, density=True)\n",
    "plt.show()"
   ]
  },
  {
   "cell_type": "markdown",
   "metadata": {},
   "source": [
    "From the results, I can calculate a free energy surface with the relation:\n",
    "$$\n",
    "    A(x) = -\\frac{1}{\\beta} ln P(x)\n",
    "$$\n",
    "Or, substituting the result above for *P(x)*:\n",
    "$$\n",
    "    A(x) = -K_BT ln P_{adb}(x)\n",
    "$$"
   ]
  },
  {
   "cell_type": "code",
   "execution_count": 34,
   "metadata": {},
   "outputs": [
    {
     "data": {
      "image/png": "[encoded data removed]",
      "text/plain": [
       "<Figure size 432x288 with 1 Axes>"
      ]
     },
     "metadata": {
      "needs_background": "light"
     },
     "output_type": "display_data"
    }
   ],
   "source": [
    "x_coords = (bins[:-1] + bins[1:]) / 2   # Bin centers\n",
    "y_coords = []   # Free energy\n",
    "\n",
    "# Transform histogram to FES\n",
    "for bar in hist:\n",
    "\n",
    "    # Apply transformation\n",
    "    transformed_bar = - 15 * np.log(bar)\n",
    "    y_coords.append(transformed_bar)\n",
    "\n",
    "new_x = []\n",
    "new_y = []\n",
    "\n",
    "# Keep select values\n",
    "for x, y in zip(x_coords, y_coords):\n",
    "\n",
    "    # Test if in range\n",
    "    if x < 1.9 and x > -1.9:\n",
    "\n",
    "        # Add to list\n",
    "        new_x.append(x)\n",
    "        new_y.append(y)\n",
    "\n",
    "# Minimum to 0\n",
    "new_y = new_y - min(new_y)\n",
    "fes = fes - min(fes)\n",
    "\n",
    "# Plot result\n",
    "plt.plot(new_x, new_y)\n",
    "plt.plot(x_list, fes)\n",
    "plt.xlabel('x-coordinate')\n",
    "plt.ylabel('Free Energy')\n",
    "plt.title('Free Energy vs X-coordinate')\n",
    "plt.show()"
   ]
  },
  {
   "cell_type": "code",
   "execution_count": 23,
   "metadata": {},
   "outputs": [
    {
     "name": "stdout",
     "output_type": "stream",
     "text": [
      "-1.9402063708610928\n",
      "-1.875848783421083\n",
      "-1.8114911959810738\n",
      "-1.747133608541064\n",
      "-1.6827760211010547\n",
      "-1.6184184336610452\n",
      "-1.5540608462210357\n",
      "-1.4897032587810262\n",
      "-1.4253456713410166\n",
      "-1.3609880839010073\n",
      "-1.2966304964609976\n",
      "-1.2322729090209883\n",
      "-1.1679153215809785\n",
      "-1.1035577341409692\n",
      "-1.0392001467009597\n",
      "-0.9748425592609503\n",
      "-0.9104849718209408\n",
      "-0.8461273843809313\n",
      "-0.7817697969409217\n",
      "-0.7174122095009122\n",
      "-0.6530546220609027\n",
      "-0.5886970346208933\n",
      "-0.5243394471808839\n",
      "-0.45998185974087435\n",
      "-0.39562427230086483\n",
      "-0.3312666848608553\n",
      "-0.2669090974208459\n",
      "-0.20255150998083638\n",
      "-0.13819392254082685\n",
      "-0.07383633510081733\n",
      "-0.009478747660807807\n",
      "0.054878839779201716\n",
      "0.11923642721921124\n",
      "0.18359401465922076\n",
      "0.24795160209923028\n",
      "0.3123091895392396\n",
      "0.3766667769792491\n",
      "0.44102436441925863\n",
      "0.5053819518592682\n",
      "0.5697395392992777\n",
      "0.6340971267392872\n",
      "0.6984547141792967\n",
      "0.762812301619306\n",
      "0.8271698890593155\n",
      "0.8915274764993251\n",
      "0.9558850639393346\n",
      "1.0202426513793441\n",
      "1.0846002388193536\n",
      "1.1489578262593632\n",
      "1.2133154136993725\n",
      "1.277673001139382\n",
      "1.3420305885793915\n",
      "1.406388176019401\n",
      "1.4707457634594105\n",
      "1.53510335089942\n",
      "1.5994609383394296\n",
      "1.663818525779439\n",
      "1.7281761132194484\n",
      "1.7925337006594582\n",
      "1.8568912880994675\n",
      "1.9212488755394768\n",
      "1.9856064629794865\n"
     ]
    }
   ],
   "source": [
    "for x_val in new_x:\n",
    "    print(x_val)"
   ]
  },
  {
   "cell_type": "code",
   "execution_count": null,
   "metadata": {},
   "outputs": [],
   "source": []
  }
 ],
 "metadata": {
  "kernelspec": {
   "display_name": "Python 3.10.1 64-bit",
   "language": "python",
   "name": "python3"
  },
  "language_info": {
   "codemirror_mode": {
    "name": "ipython",
    "version": 3
   },
   "file_extension": ".py",
   "mimetype": "text/x-python",
   "name": "python",
   "nbconvert_exporter": "python",
   "pygments_lexer": "ipython3",
   "version": "3.10.1"
  },
  "orig_nbformat": 4,
  "vscode": {
   "interpreter": {
    "hash": "aee8b7b246df8f9039afb4144a1f6fd8d2ca17a180786b69acc140d282b71a49"
   }
  }
 },
 "nbformat": 4,
 "nbformat_minor": 2
}
