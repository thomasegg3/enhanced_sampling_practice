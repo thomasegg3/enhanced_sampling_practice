{
 "cells": [
  {
   "cell_type": "markdown",
   "metadata": {},
   "source": [
    "# A Toy Problem - Enhanced Sampling"
   ]
  },
  {
   "cell_type": "markdown",
   "metadata": {},
   "source": [
    "## Framing the Problem"
   ]
  },
  {
   "cell_type": "markdown",
   "metadata": {},
   "source": [
    "Consider a system with two degrees of freedom with Hamiltonian:\n",
    "$$\n",
    "    H = \\frac{px^2}{2m_x}\\ + \\frac{py^2}{2m_y}\\ + \\frac{D_0}{a^4}(x^2-a^2)^2 + \\frac{1}{2}m_y\\omega^2y^2 + \\lambda xy\n",
    "$$\n",
    "\n",
    "We can see the potential energy is:\n",
    "$$\n",
    "   U(x, y) = \\frac{D_0}{a^4}(x^2-a^2)^2 + \\frac{1}{2}m_y\\omega^2y^2 + \\lambda xy \n",
    "$$\n",
    "\n",
    "We want to calculate the marginal probability distribution function:\n",
    "$$\n",
    "    P(x) = \\int dy e^{-\\beta U(x, y)}\n",
    "$$\n",
    "\n",
    "So that we can ascertain the potential energy surface *A* of our system:\n",
    "$$\n",
    "    A(x) = -\\frac{1}{\\beta}lnP(x)"
   ]
  },
  {
   "cell_type": "markdown",
   "metadata": {},
   "source": [
    "## Analytical Solution"
   ]
  },
  {
   "cell_type": "markdown",
   "metadata": {},
   "source": [
    "To begin, I will calculate the marginal probability distribution analytically. This will serve as a benchmark value that I can compare to the results that I will simulate."
   ]
  },
  {
   "cell_type": "code",
   "execution_count": 3,
   "metadata": {},
   "outputs": [],
   "source": [
    "# Libraries\n",
    "import numpy as np\n",
    "import matplotlib.pyplot as plt\n",
    "import random"
   ]
  },
  {
   "cell_type": "code",
   "execution_count": 4,
   "metadata": {},
   "outputs": [],
   "source": [
    "# Constants\n",
    "d = 3\n",
    "a = 1\n",
    "omega = 1\n",
    "lam = 2.5\n",
    "m_y = 1\n",
    "m_x = 100\n",
    "\n",
    "# Function for the potential energy of the system\n",
    "def potential_energy(x, y):\n",
    "    '''\n",
    "    Function to return the potential energy of system\n",
    "\n",
    "    @param x : x coordinate\n",
    "    @param y : y coordinate\n",
    "    @return en : potential energy\n",
    "    '''\n",
    "\n",
    "    # Calculate energy\n",
    "    en = (d * ((x ** 2) - (a ** 2)) ** 2) + (0.5 * m_y * (omega ** 2) * (y ** 2)) + (lam * x * y)\n",
    "\n",
    "    # Return energy\n",
    "    return en"
   ]
  },
  {
   "cell_type": "markdown",
   "metadata": {},
   "source": [
    "With a function to calculate potential energy, I will integrate analytically with respect to y to obtain the marginal probability distribution *P(x)* and, consequently, the free energy surface *A(x)*. This will later be compared to the result obtained by am dynamics simulation. Note that I performed integration with Mathematica due to it's superior integration capabilities compared to python libraries like SymPy."
   ]
  },
  {
   "cell_type": "code",
   "execution_count": 5,
   "metadata": {},
   "outputs": [
    {
     "data": {
      "image/png": "[encoded data removed]",
      "text/plain": [
       "<Figure size 432x288 with 1 Axes>"
      ]
     },
     "metadata": {
      "needs_background": "light"
     },
     "output_type": "display_data"
    }
   ],
   "source": [
    "# Plotting Free Energy Surface\n",
    "x = np.linspace(-2, 2, 1000)\n",
    "fes = - np.log(1.25331 * np.exp(-((d * (a ** 2 - x ** 2) ** 2) / (a ** 4)) + ((0.5 * (x ** 2) * (lam ** 2)) / (m_y * (omega ** 2)))) / (np.sqrt(m_y) * omega)) / 1\n",
    "pe = potential_energy(x, 0)\n",
    "plt.plot(x, fes)\n",
    "plt.plot(x, pe, linestyle='--')\n",
    "plt.show()"
   ]
  },
  {
   "cell_type": "markdown",
   "metadata": {},
   "source": [
    "## Numerical Solution"
   ]
  },
  {
   "cell_type": "markdown",
   "metadata": {},
   "source": [
    "A numerical solution to finding the free energy surface and marginal probability distribution of the system outlined above is to simulate it with a molecular dynamics approach. By propagating a particle in time over a range of x and y values, the probability distribution along those points can be ascertained. In this problem, I will generate a particle that can move in two directions: x and y, Based on the potential acting on this particle, it's position and momentum will change in time. Specifically, I will use Langevin dynamics to propagate this particle. In Langevin dynamics, a \"stochastic-dynamical\" system involving position and momentum can be modeled equations:\n",
    "$$\n",
    "    dx = M^{-1} p dt\n",
    "$$\n",
    "$$\n",
    "    dp = [- \\nabla U(x) - \\gamma] dt + \\sigma M^{1/2} dW\n",
    "$$\n",
    "Where dx and dp are changes in position and momentum respectively, M is a mass or diagonal matrix of masses, gamma is a friction coefficient, and W is a Wiener process or a vector of Wiener processes. Leimkuhler and Matthews derive the equations of motion (EOMs) shown above for Langevin dynamical systems. These equations maintain temperature by modulating the momentum of the system."
   ]
  },
  {
   "cell_type": "markdown",
   "metadata": {},
   "source": [
    "### My algorithm"
   ]
  },
  {
   "cell_type": "markdown",
   "metadata": {},
   "source": [
    "1. Initialize coordinate, choose v<sub>x</sub> and v<sub>y</sub>.\n",
    "2. Compute forces $$F = -\\nabla U(x, y)$$\n",
    "3. Update position and momentum (BAOAB integrator, follows from Langevin Dynamics)\n",
    "4. Update time $$ t = t + \\Delta t$$\n",
    "5. Repeat steps 2 through 4 for n timesteps."
   ]
  },
  {
   "cell_type": "markdown",
   "metadata": {},
   "source": [
    "## Choice of Integrator"
   ]
  },
  {
   "cell_type": "markdown",
   "metadata": {},
   "source": [
    "I will be implementing the BAOAB integrator, these equations below follow from Langevin dynamics. This integrator has the following equations of motion:\n",
    "\n",
    "$$\n",
    "    p_{n+1/2} = p_n - \\delta t \\nabla U(x_n)/2:\n",
    "$$\n",
    "$$\n",
    "    x_{n+1/2} = x_n + \\delta t M^{-1} p_{n+1/2}/2;\n",
    "$$\n",
    "$$\n",
    "    \\hat{p}_{n+1/2} = c_1 p_{n+1/2} + c_3 M^{1/2} R_{n+1};\n",
    "$$\n",
    "$$\n",
    "    x_{n+1} = x_{n+1/2} + \\delta t M^{-1} \\hat{p}_{n+1/2}/2;\n",
    "$$\n",
    "$$\n",
    "    p_{n+1} = \\hat{p}_{n+1/2} - \\delta t \\nabla U(x_{n+1})/2;\n",
    "$$\n",
    "\n",
    "Where:\n",
    "$$\n",
    "    c_1 = e^{-\\gamma \\delta t}, \\quad c_2 = \\gamma^{-1}(1-c_1), \\quad c_3 = \\sqrt{k_BT(1-c_1^2)}\n",
    "$$\n",
    "\n",
    "where I will set &gamma; to be 1"
   ]
  },
  {
   "cell_type": "markdown",
   "metadata": {},
   "source": [
    "A numerical solution requires simulating a particle in the x and y space we have constrained our system to. In order to do this we must initialize a system with x and y coordinates at time of 0 seconds. We also need to specify temperature and masses for x and y directions."
   ]
  },
  {
   "cell_type": "code",
   "execution_count": 6,
   "metadata": {},
   "outputs": [],
   "source": [
    "def grad(point):\n",
    "    '''\n",
    "    Function to calculate the gradient of the potential V(x, y) with respect to x\n",
    "\n",
    "    @param point : point to evaluate gradient\n",
    "\n",
    "    @return grad : the gradient\n",
    "    '''\n",
    "\n",
    "    # Set x and y\n",
    "    x = point[0]\n",
    "    y = point[1]\n",
    "\n",
    "    # Calculate gradient\n",
    "    grad_x = (((4 * d) / (a ** 4)) * x * ((x ** 2) - (a ** 2))) + (y * lam)\n",
    "    grad_y = ((m_y * (omega ** 2) * y) + (lam * x))\n",
    "    gradient = (grad_x, grad_y)\n",
    "\n",
    "    # Return gradient\n",
    "    return gradient\n",
    "\n",
    "def run_simulation(n_steps, m_x, m_y, kt_x, kt_y):\n",
    "    '''\n",
    "    Function to run simulation for x timesteps\n",
    "\n",
    "    @param n_steps : number of timesteps to take\n",
    "    @param m_x : mass for x-coordinate\n",
    "    @param t_x : temperature for x-coordinate\n",
    "    @param m_y : mass for y-coordinate\n",
    "    @param t_y : temperature for y_coordinate\n",
    "\n",
    "    @return x_pos : x-coordinate data\n",
    "    @return free_en : free energy at each x position\n",
    "    '''\n",
    "\n",
    "    # Lists for data collection \n",
    "    steps = []\n",
    "    x_pos = []  # Values for x at each step\n",
    "    p_square = []   # Momentum squared at each step\n",
    "\n",
    "    '''\n",
    "    Step 1: Initialize system\n",
    "\n",
    "    Set coordinate and choose a random velocity to initialize system, momenta will\n",
    "    evolve through equations of motion after this step so velocity does not need to be\n",
    "    tracked throughout the simulation.\n",
    "    '''\n",
    "    coords = [-1, 1]\n",
    "    velocity = [random.gauss(0, 1), random.gauss(0, 1)]\n",
    "    momenta = [m_x * velocity[0], m_y * velocity[1]]\n",
    "    time = 0\n",
    "    time_step = 0.20 * (10 ** -3)\n",
    "\n",
    "    # Initialize constants\n",
    "    c1 = np.exp(-1 * time_step)\n",
    "    c3_x = np.sqrt(kt_x * (1 - (c1 ** 2)))\n",
    "    c3_y = np.sqrt(kt_y * (1 - (c1 ** 2)))\n",
    "\n",
    "    # Simulation loop\n",
    "    for i in range(n_steps):\n",
    "\n",
    "        '''\n",
    "        Step 2: Compute forces\n",
    "\n",
    "        Forces are negative gradient of the potential.\n",
    "        '''\n",
    "        gradient = grad(coords)\n",
    "\n",
    "        '''\n",
    "        Step 3: Move coordinate\n",
    "        \n",
    "        Integrate the Langevin dynamics equations of motion to conserve momenta and, thus, temperature.\n",
    "        '''\n",
    "        # B\n",
    "        p_int_x = momenta[0] - (time_step * gradient[0]) / 2\n",
    "        p_int_y = momenta[1] - (time_step * gradient[1]) / 2\n",
    " \n",
    "        # A\n",
    "        x_int = coords[0] + (time_step * (m_x ** -1) * p_int_x) / 2\n",
    "        y_int = coords[1] + (time_step * (m_y ** -1) * p_int_y) / 2\n",
    "\n",
    "        # O\n",
    "        p_int_x = (c1 * p_int_x) + (c3_x * (m_x ** (1/2)) * random.gauss(0, 1))\n",
    "        p_int_y = (c1 * p_int_y) + (c3_y * (m_y ** (1/2)) * random.gauss(0, 1))\n",
    "\n",
    "        # A\n",
    "        x_new = x_int + (time_step * (m_x ** -1) * p_int_x) / 2\n",
    "        y_new = y_int + (time_step * (m_y ** -1) * p_int_y) / 2\n",
    "\n",
    "        # Compute NEW gradient for final equations\n",
    "        new_gradient = grad([x_new, y_new])\n",
    "\n",
    "        # B\n",
    "        p_new_x = p_int_x - (time_step * new_gradient[0]) / 2\n",
    "        p_new_y = p_int_y - (time_step * new_gradient[1]) / 2\n",
    "\n",
    "        # Set new coordinates and momenta\n",
    "        coords[0], coords[1] = x_new, y_new\n",
    "        momenta[0], momenta[1] = p_new_x, p_new_y\n",
    "\n",
    "        '''\n",
    "        Step 4: Accelerate time\n",
    "        \n",
    "        Add timestep to current time.\n",
    "        '''\n",
    "        time = time + time_step\n",
    "\n",
    "        # Record values and repeat\n",
    "        steps.append(i+1)\n",
    "        x_pos.append(coords[0])\n",
    "        p_square.append(momenta[0] ** 2)\n",
    "        \n",
    "    # Return data\n",
    "    return x_pos, p_square, steps"
   ]
  },
  {
   "cell_type": "markdown",
   "metadata": {},
   "source": [
    "## Simulation Testing"
   ]
  },
  {
   "cell_type": "markdown",
   "metadata": {},
   "source": [
    "Below is code for testing the simulation written above and analyzing resulting data. Relevant figures like x position over time can be generated and used to visualize the movement of the particle and the free energy of the system."
   ]
  },
  {
   "cell_type": "code",
   "execution_count": 8,
   "metadata": {},
   "outputs": [],
   "source": [
    "# Run simulation as test\n",
    "n_steps = 1000000\n",
    "x, p_square, steps = run_simulation(n_steps, 200, 1, 50, 1)"
   ]
  },
  {
   "cell_type": "code",
   "execution_count": 9,
   "metadata": {},
   "outputs": [
    {
     "data": {
      "image/png": "[encoded data removed]",
      "text/plain": [
       "<Figure size 432x288 with 1 Axes>"
      ]
     },
     "metadata": {
      "needs_background": "light"
     },
     "output_type": "display_data"
    }
   ],
   "source": [
    "# Plot momentum squared over time\n",
    "plt.xlabel('Steps')\n",
    "plt.ylabel('$<p^{2}>$')\n",
    "plt.plot(steps, p_square)\n",
    "plt.show()"
   ]
  },
  {
   "cell_type": "code",
   "execution_count": 10,
   "metadata": {},
   "outputs": [
    {
     "data": {
      "text/plain": [
       "[<matplotlib.lines.Line2D at 0x121878be0>]"
      ]
     },
     "execution_count": 10,
     "metadata": {},
     "output_type": "execute_result"
    },
    {
     "data": {
      "image/png": "[encoded data removed]",
      "text/plain": [
       "<Figure size 432x288 with 1 Axes>"
      ]
     },
     "metadata": {
      "needs_background": "light"
     },
     "output_type": "display_data"
    }
   ],
   "source": [
    "# Plot x-coordinate over time\n",
    "plt.xlabel('Steps')\n",
    "plt.ylabel('x-coordinate')\n",
    "plt.plot(steps, x)"
   ]
  },
  {
   "cell_type": "markdown",
   "metadata": {},
   "source": [
    "## Generating Free Energy Surface"
   ]
  },
  {
   "cell_type": "markdown",
   "metadata": {},
   "source": [
    "When we adiabatically separate the x and y degrees of freedome to generate the marginal distribution of our particle, we are sampling an adiabatic marginal. This marginal is related to the analytical marginal sampled above by the relation:\n",
    "$$\n",
    "    P_{adb}(x) = [P(x)]^{T_y/T_x}\n",
    "$$"
   ]
  },
  {
   "cell_type": "code",
   "execution_count": null,
   "metadata": {},
   "outputs": [],
   "source": []
  }
 ],
 "metadata": {
  "kernelspec": {
   "display_name": "Python 3.10.1 64-bit",
   "language": "python",
   "name": "python3"
  },
  "language_info": {
   "codemirror_mode": {
    "name": "ipython",
    "version": 3
   },
   "file_extension": ".py",
   "mimetype": "text/x-python",
   "name": "python",
   "nbconvert_exporter": "python",
   "pygments_lexer": "ipython3",
   "version": "3.10.1"
  },
  "orig_nbformat": 4,
  "vscode": {
   "interpreter": {
    "hash": "aee8b7b246df8f9039afb4144a1f6fd8d2ca17a180786b69acc140d282b71a49"
   }
  }
 },
 "nbformat": 4,
 "nbformat_minor": 2
}
