{
 "cells": [
  {
   "cell_type": "markdown",
   "metadata": {},
   "source": [
    "# A Toy Problem - Enhanced Sampling"
   ]
  },
  {
   "cell_type": "markdown",
   "metadata": {},
   "source": [
    "## Framing the Problem"
   ]
  },
  {
   "cell_type": "markdown",
   "metadata": {},
   "source": [
    "Consider a system with two degrees of freedom with Hamiltonian:\n",
    "$$\n",
    "    H = \\frac{px^2}{2m_x}\\ + \\frac{py^2}{2m_y}\\ + \\frac{D_0}{a^4}(x^2-a^2)^2 + \\frac{1}{2}m_y\\omega^2y^2 + \\lambda xy\n",
    "$$\n",
    "\n",
    "We can see the potential energy is:\n",
    "$$\n",
    "   U(x, y) = \\frac{D_0}{a^4}(x^2-a^2)^2 + \\frac{1}{2}m_y\\omega^2y^2 + \\lambda xy \n",
    "$$\n",
    "\n",
    "We want to calculate the marginal probability distribution function:\n",
    "$$\n",
    "    P(x) = \\int dy e^{-\\beta U(x, y)}\n",
    "$$\n",
    "\n",
    "So that we can ascertain the potential energy surface *A* of our system:\n",
    "$$\n",
    "    A(x) = -\\frac{1}{\\beta}lnP(x)"
   ]
  },
  {
   "cell_type": "markdown",
   "metadata": {},
   "source": [
    "## Analytical Solution"
   ]
  },
  {
   "cell_type": "markdown",
   "metadata": {},
   "source": [
    "To begin, I will calculate the marginal probability distribution analytically. This will serve as a benchmark value that I can compare to the results that I will simulate."
   ]
  },
  {
   "cell_type": "code",
   "execution_count": 19,
   "metadata": {},
   "outputs": [],
   "source": [
    "# Libraries\n",
    "import numpy as np\n",
    "from sympy import integrate, Symbol, exp, log, simplify\n",
    "import matplotlib.pyplot as plt"
   ]
  },
  {
   "cell_type": "code",
   "execution_count": 15,
   "metadata": {},
   "outputs": [],
   "source": [
    "# Function for the potential energy of the system\n",
    "def potential_energy(x, y, D_0, a, omega, m_y, lam):\n",
    "    '''\n",
    "    Function to return the potential energy of system\n",
    "\n",
    "    @param x : x coordinate\n",
    "    @param y : y coordinate\n",
    "    @return en : potential energy\n",
    "    '''\n",
    "\n",
    "    # Calculate energy\n",
    "    en = ((D_0 / (a ** 4)) * ((x ** 2) - (a ** 2)) ** 2) + (0.5 * m_y * (omega ** 2) * (y ** 2)) + (lam * x * y)\n",
    "\n",
    "    # Return energy\n",
    "    return en"
   ]
  },
  {
   "cell_type": "markdown",
   "metadata": {},
   "source": [
    "With a function to calculate potential energy, I will integrate analytically with respect to y to obtain the marginal probability distribution *P(x)* and, consequently, the free energy surface A(x). This will later be compared to the result obtained by am dynamics simulation."
   ]
  },
  {
   "cell_type": "code",
   "execution_count": 13,
   "metadata": {},
   "outputs": [
    {
     "data": {
      "text/latex": [
       "$\\displaystyle 0.707106781186548 \\sqrt{\\pi} \\sqrt{\\frac{1}{\\omega^{2} m_{y}}} e^{- \\frac{D_{0} \\omega^{2} \\beta m_{y} \\left(- a^{2} + x^{2}\\right)^{2} + 0.5 \\lambda^{2} a^{4} x^{2}}{\\omega^{2} a^{4} m_{y}}} \\operatorname{erfi}{\\left(\\frac{0.707106781186547 \\left(\\lambda x + \\omega^{2} m_{y} y\\right)}{\\sqrt{\\omega^{2} m_{y}}} \\right)}$"
      ],
      "text/plain": [
       "0.707106781186548*sqrt(pi)*sqrt(1/(\\omega**2*m_y))*exp(-(D_0*\\omega**2*beta*m_y*(-a**2 + x**2)**2 + 0.5*\\lambda**2*a**4*x**2)/(\\omega**2*a**4*m_y))*erfi(0.707106781186547*(\\lambda*x + \\omega**2*m_y*y)/sqrt(\\omega**2*m_y))"
      ]
     },
     "execution_count": 13,
     "metadata": {},
     "output_type": "execute_result"
    }
   ],
   "source": [
    "# Define function to integrate and symbol\n",
    "x, y, D_0, a, omega, m_y, lam, beta = Symbol('x'), Symbol('y'), Symbol('D_0'), Symbol('a'), Symbol('\\omega'), Symbol('m_y'), Symbol('\\lambda'), Symbol('beta')\n",
    "func = exp(-beta * ((D_0 / (a ** 4)) * ((x ** 2) - (a ** 2)) ** 2) + (0.5 * m_y * (omega ** 2) * (y ** 2)) + (lam * x * y))\n",
    "\n",
    "# Integrate with respect to y\n",
    "fes = integrate(func, y)\n",
    "\n",
    "# Print marginal\n",
    "simplify(fes)"
   ]
  },
  {
   "cell_type": "code",
   "execution_count": 23,
   "metadata": {},
   "outputs": [
    {
     "data": {
      "text/plain": [
       "[<matplotlib.lines.Line2D at 0x116b53c70>]"
      ]
     },
     "execution_count": 23,
     "metadata": {},
     "output_type": "execute_result"
    },
    {
     "data": {
      "image/png": "[encoded data removed]",
      "text/plain": [
       "<Figure size 432x288 with 1 Axes>"
      ]
     },
     "metadata": {
      "needs_background": "light"
     },
     "output_type": "display_data"
    }
   ],
   "source": [
    "# Constants\n",
    "D = 5\n",
    "a = 1\n",
    "omega = 1\n",
    "m_y = 1\n",
    "lam = 2.878\n",
    "\n",
    "# Plotting Free Energy Surface\n",
    "x = np.linspace(-2, 2, 1000)\n",
    "z = np.log(1.25331 * np.exp(((D * (x ** 2 - a ** 2) ** 2) / (a ** 4)) - ((0.5 * (x ** 2) * (lam ** 2)) / (m_y * (omega ** 2)))) / (np.sqrt(m_y) * omega))\n",
    "plt.plot(x, z)"
   ]
  },
  {
   "cell_type": "markdown",
   "metadata": {},
   "source": [
    "## Choice of Integrator"
   ]
  },
  {
   "cell_type": "markdown",
   "metadata": {},
   "source": [
    "Since I am using a Langevian Thermostat, I will be implementing the Stochastic position Verlet (SPV) integrator. "
   ]
  },
  {
   "cell_type": "markdown",
   "metadata": {},
   "source": [
    "## Numerical Solution"
   ]
  },
  {
   "cell_type": "markdown",
   "metadata": {},
   "source": [
    "A numerical solution requires simulating a particle in the x and y space we have constrained our system to. In order to do this we must initialize a system with x and y coordinates at time of 0 seconds. We also need to specify temperature and masses for x and y directions."
   ]
  },
  {
   "cell_type": "code",
   "execution_count": 28,
   "metadata": {},
   "outputs": [],
   "source": [
    "def run_simulation(n_steps, m_x, t_x):\n",
    "    '''\n",
    "    Function to run simulation for x timesteps\n",
    "\n",
    "    @param n_steps : number of timesteps to take\n",
    "    @param m_x : mass for x-coordinate\n",
    "    @param t_x : temperature for x-coordinate\n",
    "    '''\n",
    "\n",
    "    # Initialize system\n",
    "    coords = (-1, 1)\n",
    "    velocity = \n",
    "    \n",
    "\n",
    "def update(coords)"
   ]
  },
  {
   "cell_type": "code",
   "execution_count": null,
   "metadata": {},
   "outputs": [],
   "source": []
  }
 ],
 "metadata": {
  "kernelspec": {
   "display_name": "Python 3.10.1 64-bit",
   "language": "python",
   "name": "python3"
  },
  "language_info": {
   "codemirror_mode": {
    "name": "ipython",
    "version": 3
   },
   "file_extension": ".py",
   "mimetype": "text/x-python",
   "name": "python",
   "nbconvert_exporter": "python",
   "pygments_lexer": "ipython3",
   "version": "3.10.1"
  },
  "orig_nbformat": 4,
  "vscode": {
   "interpreter": {
    "hash": "aee8b7b246df8f9039afb4144a1f6fd8d2ca17a180786b69acc140d282b71a49"
   }
  }
 },
 "nbformat": 4,
 "nbformat_minor": 2
}
