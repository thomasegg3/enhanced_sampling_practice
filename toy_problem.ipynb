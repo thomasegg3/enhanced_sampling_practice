{
 "cells": [
  {
   "cell_type": "markdown",
   "metadata": {},
   "source": [
    "# A Toy Problem - Enhanced Sampling"
   ]
  },
  {
   "cell_type": "markdown",
   "metadata": {},
   "source": [
    "## Framing the Problem"
   ]
  },
  {
   "cell_type": "markdown",
   "metadata": {},
   "source": [
    "Consider a system with two degrees of freedom with Hamiltonian:\n",
    "$$\n",
    "    H = \\frac{px^2}{2m_x}\\ + \\frac{py^2}{2m_y}\\ + \\frac{D_0}{a^4}(x^2-a^2)^2 + \\frac{1}{2}m_y\\omega^2y^2 + \\lambda xy\n",
    "$$\n",
    "\n",
    "We can see the potential energy is:\n",
    "$$\n",
    "   U(x, y) = \\frac{D_0}{a^4}(x^2-a^2)^2 + \\frac{1}{2}m_y\\omega^2y^2 + \\lambda xy \n",
    "$$\n",
    "\n",
    "We want to calculate the marginal probability distribution function:\n",
    "$$\n",
    "    P(x) = \\int dy e^{-\\beta U(x, y)}\n",
    "$$\n",
    "\n",
    "So that we can ascertain the potential energy surface *A* of our system:\n",
    "$$\n",
    "    A(x) = -\\frac{1}{\\beta}lnP(x)"
   ]
  },
  {
   "cell_type": "markdown",
   "metadata": {},
   "source": [
    "## Analytical Solution"
   ]
  },
  {
   "cell_type": "markdown",
   "metadata": {},
   "source": [
    "To begin, I will calculate the marginal probability distribution analytically. This will serve as a benchmark value that I can compare to the results that I will simulate."
   ]
  },
  {
   "cell_type": "code",
   "execution_count": 105,
   "metadata": {},
   "outputs": [],
   "source": [
    "# Libraries\n",
    "import numpy as np\n",
    "import sympy as sp\n",
    "import numdifftools as nd\n",
    "import matplotlib.pyplot as plt\n",
    "import random"
   ]
  },
  {
   "cell_type": "code",
   "execution_count": 141,
   "metadata": {},
   "outputs": [],
   "source": [
    "# Constants\n",
    "d = 5\n",
    "a = 1\n",
    "omega = 1\n",
    "m_y = 1\n",
    "lam = 2.878\n",
    "\n",
    "# Function for the potential energy of the system\n",
    "def potential_energy(x, y):\n",
    "    '''\n",
    "    Function to return the potential energy of system\n",
    "\n",
    "    @param x : x coordinate\n",
    "    @param y : y coordinate\n",
    "    @return en : potential energy\n",
    "    '''\n",
    "\n",
    "    # Calculate energy\n",
    "    en = (d * ((x ** 2) - (a ** 2)) ** 2) + (0.5 * m_y * (omega ** 2) * (y ** 2)) + (lam * x * y)\n",
    "\n",
    "    # Return energy\n",
    "    return en"
   ]
  },
  {
   "cell_type": "markdown",
   "metadata": {},
   "source": [
    "With a function to calculate potential energy, I will integrate analytically with respect to y to obtain the marginal probability distribution *P(x)* and, consequently, the free energy surface *A(x)*. This will later be compared to the result obtained by am dynamics simulation. Note that I performed integration with Mathematica due to it's superior integration capabilities compared to python libraries like SymPy."
   ]
  },
  {
   "cell_type": "code",
   "execution_count": 142,
   "metadata": {},
   "outputs": [
    {
     "data": {
      "image/png": "[encoded data removed]",
      "text/plain": [
       "<Figure size 432x288 with 1 Axes>"
      ]
     },
     "metadata": {
      "needs_background": "light"
     },
     "output_type": "display_data"
    }
   ],
   "source": [
    "# Plotting Free Energy Surface\n",
    "x = np.linspace(-2, 2, 1000)\n",
    "fes = - np.log(1.25331 * np.exp(-((d * (a ** 2 - x ** 2) ** 2) / (a ** 4)) + ((0.5 * (x ** 2) * (lam ** 2)) / (m_y * (omega ** 2)))) / (np.sqrt(m_y) * omega)) / 1\n",
    "pe = potential_energy(x, 0)\n",
    "plt.plot(x, fes)\n",
    "plt.plot(x, pe, linestyle='--')\n",
    "plt.show()"
   ]
  },
  {
   "cell_type": "markdown",
   "metadata": {},
   "source": [
    "## Choice of Integrator"
   ]
  },
  {
   "cell_type": "markdown",
   "metadata": {},
   "source": [
    "Since I am using a Langevian Thermostat, I will be implementing the BAOAB integrator. This integrator has the following equations of motion:\n",
    "\n",
    "$$\n",
    "    p_{n+1/2} = p_n - \\delta t \\nabla U(x_n)/2:\n",
    "$$\n",
    "$$\n",
    "    x_{n+1/2} = x_n + \\delta t M^{-1} p_{n+1/2}/2;\n",
    "$$\n",
    "$$\n",
    "    \\hat{p}_{n+1/2} = c_1 p_{n+1/2} + c_3 M^{1/2} R_{n+1};\n",
    "$$\n",
    "$$\n",
    "    x_{n+1} = x_{n+1/2} + \\delta t M^{-1} \\hat{p}_{n+1/2}/2;\n",
    "$$\n",
    "$$\n",
    "    p_{n+1} = \\hat{p}_{n+1/2} - \\delta t \\nabla U(x_{n+1})/2;\n",
    "$$\n",
    "\n",
    "Where:\n",
    "$$\n",
    "    c_1 = e^{-\\gamma \\delta t}, \\quad c_2 = \\gamma^{-1}(1-c_1), \\quad c_3 = \\sqrt{k_BT(1-c_1^2)}\n",
    "$$\n",
    "\n",
    "where, initially, I will set &gamma; to be 1"
   ]
  },
  {
   "cell_type": "markdown",
   "metadata": {},
   "source": [
    "## Numerical Solution"
   ]
  },
  {
   "cell_type": "markdown",
   "metadata": {},
   "source": [
    "### My algorithm"
   ]
  },
  {
   "cell_type": "markdown",
   "metadata": {},
   "source": [
    "1. Initialize coordinate, choose v<sub>x</sub> and v<sub>y</sub>.\n",
    "2. Compute forces $$F = -\\nabla U(x, y)$$\n",
    "3. Update position and momentum (BAOAB integrator, follows from Langevin Dynamics)\n",
    "4. Update time $$ t = t + \\Delta t$$\n",
    "5. Repeat steps 2 through 4 for n timesteps."
   ]
  },
  {
   "cell_type": "markdown",
   "metadata": {},
   "source": [
    "A numerical solution requires simulating a particle in the x and y space we have constrained our system to. In order to do this we must initialize a system with x and y coordinates at time of 0 seconds. We also need to specify temperature and masses for x and y directions."
   ]
  },
  {
   "cell_type": "code",
   "execution_count": 153,
   "metadata": {},
   "outputs": [],
   "source": [
    "def wrapped_pe(params):\n",
    "    '''\n",
    "    Function to wrap the potential energy function into a format that numdifftools can take the gradient of\n",
    "\n",
    "    @params params : the parameter list\n",
    "\n",
    "    @return func : wrapped function\n",
    "    '''\n",
    "\n",
    "    # Save parameters\n",
    "    x, y = params\n",
    "    return potential_energy(x, y)\n",
    "\n",
    "def run_simulation(n_steps, m_x, m_y, kt_x, kt_y):\n",
    "    '''\n",
    "    Function to run simulation for x timesteps\n",
    "\n",
    "    @param n_steps : number of timesteps to take\n",
    "    @param m_x : mass for x-coordinate\n",
    "    @param t_x : temperature for x-coordinate\n",
    "    @param m_y : mass for y-coordinate\n",
    "    @param t_y : temperature for y_coordinate\n",
    "\n",
    "    @return x_pos : x-coordinate data\n",
    "    @return free_en : free energy at each x position\n",
    "    '''\n",
    "\n",
    "    # Lists for data collection \n",
    "    steps = []\n",
    "    x_pos = []\n",
    "    free_en = []\n",
    "\n",
    "    # Step 1: Initialize system\n",
    "    coords = [-1, 1]\n",
    "    velocity = [random.gauss(0.1, 0.05), random.gauss(0.1, 0.05)]\n",
    "    momenta = [m_x * velocity[0], m_y * velocity[1]]\n",
    "    time, time_step = 0, 0.25 * (10 ** -3)\n",
    "\n",
    "    # Simulation loop\n",
    "    for i in range(n_steps):\n",
    "\n",
    "        # Step 2: Compute forces\n",
    "        gradient = -(nd.Gradient(wrapped_pe)(coords))\n",
    "\n",
    "        # Step 3: Move coordinate\n",
    "        coords[0], momenta[0] = integrate_EOM(coords[0], momenta[0], gradient[0], kt_x, time_step, m_x)  # EOM and thermostat for x\n",
    "        coords[1], momenta[1] = integrate_EOM(coords[1], momenta[1], gradient[1], kt_y, time_step, m_y)  # EOM and thermostat for y\n",
    "\n",
    "        # Step 4: Accelerate time\n",
    "        time = time + time_step\n",
    "\n",
    "        # Record values and repeat\n",
    "        steps.append(i+1)\n",
    "        x_pos.append(coords[0])\n",
    "\n",
    "    # Return data\n",
    "    return x_pos, steps\n",
    "\n",
    "        \n",
    "\n",
    "def integrate_EOM(position, momentum, grad, kt, time_step, mass):\n",
    "    '''\n",
    "    Function to update coordinates and momenta with BAOAB integrator\n",
    "\n",
    "    @param positions : positions\n",
    "    @param momenta : momenta\n",
    "    @param grad : force gradient in one direction\n",
    "    @param temperature : temperature\n",
    "    @param time_step : time step size\n",
    "    @param mass : mass of coordinate\n",
    "\n",
    "    @return new_pos : new positions\n",
    "    @return new_momenta : new momenta\n",
    "    '''\n",
    "\n",
    "    # Initialize constants\n",
    "    c1 = np.exp(-1 * time_step)\n",
    "    c3 = np.sqrt(kt * (1 - (c1 ** 2)))\n",
    "\n",
    "    # Integrate EOM\n",
    "    p_int = momentum - (time_step * grad) / 2\n",
    "    position_int = position + (time_step * (mass ** -1) * p_int) / 2\n",
    "    p_int = (c1 * p_int) + (c3 * (mass ** (1/2)) * random.normalvariate(0.5, 0.25))\n",
    "    position_new = position_int + (time_step * (mass ** -1) * p_int) / 2\n",
    "    p_new = p_int - (time_step * grad) / 2\n",
    "\n",
    "    return position_new, p_new\n",
    "    "
   ]
  },
  {
   "cell_type": "markdown",
   "metadata": {},
   "source": [
    "## Simulation Testing"
   ]
  },
  {
   "cell_type": "markdown",
   "metadata": {},
   "source": [
    "Below is code for testing the simulation written above and analyzing resulting data. Relevant figures like x position over time can be generated and used to visualize the movement of the particle and the free energy of the system."
   ]
  },
  {
   "cell_type": "code",
   "execution_count": 154,
   "metadata": {},
   "outputs": [],
   "source": [
    "# Run simulation for same and different mass/temperature\n",
    "x1, steps_1 = run_simulation(10000, 300, 1, 10, 1)"
   ]
  },
  {
   "cell_type": "code",
   "execution_count": null,
   "metadata": {},
   "outputs": [],
   "source": []
  }
 ],
 "metadata": {
  "kernelspec": {
   "display_name": "Python 3.10.1 64-bit",
   "language": "python",
   "name": "python3"
  },
  "language_info": {
   "codemirror_mode": {
    "name": "ipython",
    "version": 3
   },
   "file_extension": ".py",
   "mimetype": "text/x-python",
   "name": "python",
   "nbconvert_exporter": "python",
   "pygments_lexer": "ipython3",
   "version": "3.10.1"
  },
  "orig_nbformat": 4,
  "vscode": {
   "interpreter": {
    "hash": "aee8b7b246df8f9039afb4144a1f6fd8d2ca17a180786b69acc140d282b71a49"
   }
  }
 },
 "nbformat": 4,
 "nbformat_minor": 2
}
